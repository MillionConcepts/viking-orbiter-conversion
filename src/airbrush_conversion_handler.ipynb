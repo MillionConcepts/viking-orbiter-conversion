{
 "cells": [
  {
   "cell_type": "markdown",
   "metadata": {},
   "source": [
    "# airbrush conversion handler\n",
    "\n",
    "Extremely simple Notebook for converting the cosmetic 'digital airbrush' maps to PDS4 browse products.\n",
    "Just writes the output products into the working directory (there are not many).\n",
    "\n",
    "Note: paths should be changed to reflect the actual locations of the input PDS3 products on your system."
   ]
  },
  {
   "cell_type": "code",
   "execution_count": null,
   "metadata": {},
   "outputs": [],
   "source": [
    "from pathlib import Path\n",
    "\n",
    "import pandas as pd\n",
    "\n",
    "from utilz import index_breadth_first\n",
    "from vo_conversion import VikingAirbrushConverter"
   ]
  },
  {
   "cell_type": "code",
   "execution_count": null,
   "metadata": {},
   "outputs": [],
   "source": [
    "dd = index_breadth_first('/datascratch/viking/vo1_vo2-m-vis-5-dim-v1.0/')\n",
    "dt = index_breadth_first('/datascratch/viking/vo1_vo2-m-vis-5-dtm-v1.0/')\n",
    "dtd = pd.DataFrame(dd + dt)\n",
    "airbrush = dtd.loc[(dtd['path'].str.match(r'.*\\/s[ecgk].*\\.img'))].copy().reset_index(drop=True)\n",
    "paths = airbrush['path'].map(lambda p: Path(p))\n",
    "airbrush['name'] = [p.name for p in paths]\n",
    "# most of the data volumes contained a full set of identical airbrush products\n",
    "airbrush = airbrush.loc[~airbrush['name'].duplicated(keep='last')]\n",
    "for path in airbrush['path']:\n",
    "    converter = VikingAirbrushConverter(path)\n",
    "    converter.write_file('image', '.')\n",
    "    converter.convert_label()\n",
    "    converter.write_label('.')"
   ]
  }
 ],
 "metadata": {
  "kernelspec": {
   "display_name": "Python 3 (ipykernel)",
   "language": "python",
   "name": "python3"
  },
  "language_info": {
   "codemirror_mode": {
    "name": "ipython",
    "version": 3
   },
   "file_extension": ".py",
   "mimetype": "text/x-python",
   "name": "python",
   "nbconvert_exporter": "python",
   "pygments_lexer": "ipython3",
   "version": "3.9.16"
  }
 },
 "nbformat": 4,
 "nbformat_minor": 1
}
