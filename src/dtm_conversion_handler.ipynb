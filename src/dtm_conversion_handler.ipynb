{
 "cells": [
  {
   "cell_type": "markdown",
   "id": "2e7f6f53",
   "metadata": {},
   "source": [
    "# DTM conversion handler\n",
    "\n",
    "Top-level handler Notebook for converting DTMs to PDS4.\n",
    "\n",
    "Note: paths should be changed to reflect the actual locations of the input PDS3 products on your system."
   ]
  },
  {
   "cell_type": "code",
   "execution_count": null,
   "id": "2b301a66",
   "metadata": {},
   "outputs": [],
   "source": [
    "from multiprocessing import Pool\n",
    "from pathlib import Path\n",
    "import time\n",
    "import warnings\n",
    "\n",
    "from cytoolz import frequencies\n",
    "import numpy as np\n",
    "import pandas as pd\n",
    "from pdr.pdr import DuplicateKeyWarning\n",
    "\n",
    "from utilz import index_breadth_first, make_edr_lidmap, print_inline\n",
    "from vo_conversion import VikingDIMConverter, VikingDIMBrowseWriter\n",
    "\n",
    "output_root = Path(\"/datascratch/viking/scratch_write/\")"
   ]
  },
  {
   "cell_type": "code",
   "execution_count": null,
   "id": "1efa1e7d",
   "metadata": {},
   "outputs": [],
   "source": [
    "# build an index of the source DTMs\n",
    "dtm_df = pd.DataFrame(\n",
    "    index_breadth_first(\"/datascratch/viking/vo1_vo2-m-vis-5-dtm-v1.0/\")\n",
    ")\n",
    "dtm = dtm_df.loc[dtm_df['path'].str.contains('/t')]\n",
    "dtm = dtm.loc[dtm['path'].str.endswith('img')].reset_index(drop=True)\n",
    "dtm = dtm.drop(\n",
    "    columns=['excluded', 'directory', 'ATIME', 'CTIME', 'MTIME']\n",
    ").copy()"
   ]
  },
  {
   "cell_type": "code",
   "execution_count": null,
   "id": "b920c1bd",
   "metadata": {},
   "outputs": [],
   "source": [
    "# assign resolution codes and latitude bins to input products\n",
    "# in order to construct the output directory tree\n",
    "resmap = {\n",
    "    'c': '0004',\n",
    "    'e': '0016',\n",
    "    'g': '0064',\n",
    "    'i': '0256',\n",
    "    'j': '0512',\n",
    "    'k': '1024'\n",
    "}\n",
    "# note that, unlike other data sets, the dtm set contains\n",
    "# no dupe / superseded / errata versions.\n",
    "paths = dtm['path'].map(lambda p: Path(p))\n",
    "dtm['name'] = [p.name for p in paths]\n",
    "dtm['stem'] = [p.stem for p in paths]\n",
    "dtm['dtype'] = dtm['name'].str.slice(0, 1)\n",
    "dtm['res'] = dtm['name'].str.slice(1, 2)\n",
    "latsign = dtm['name'].str.slice(4, 5)\n",
    "lat = dtm['name'].str.slice(2, 4).astype(int)\n",
    "dtm['lat_bin'] = (\n",
    "    np.floor(lat / 10) * 10\n",
    ").astype(int).astype(str).str.zfill(2) + latsign\n",
    "parts = dtm['path'].str.split(\"/\", expand=True)"
   ]
  },
  {
   "cell_type": "code",
   "execution_count": null,
   "id": "6943170c",
   "metadata": {},
   "outputs": [],
   "source": [
    "# index the EDRs to associate map-projected products with their source products.\n",
    "EDR_ROOT = '/datascratch/viking/scratch_write/data/edr'\n",
    "edr_lidmap = make_edr_lidmap(EDR_ROOT)"
   ]
  },
  {
   "cell_type": "code",
   "execution_count": null,
   "id": "e8b5ff41",
   "metadata": {},
   "outputs": [],
   "source": [
    "# a handful of polar tiles have incorrectly-specified IMAGE_ID \n",
    "# (does not match file and is at the wrong pole.) fix this.\n",
    "def check_image_id(converter):\n",
    "    if Path(converter.data.filename).name.startswith(\n",
    "        converter.data.metaget('IMAGE_ID').lower()\n",
    "    ):\n",
    "        return converter\n",
    "    converter._make_associations()\n",
    "    converter.associations['product_id'] = converter.output_stem\n",
    "    return converter\n",
    "\n",
    "def convert_dtm(row, write_browse=True):\n",
    "    \"\"\"\n",
    "    handler function for converting a single product. constructs a VikingDIMConverter\n",
    "    and uses it to write a PDS4 data product; then uses that converter to construct\n",
    "    a VikingDIMBrowseWriter to write an associated browse product. Note that the\n",
    "    same objects are used for the single-band DIMs and the DTMs (their formats\n",
    "    are very similar).\n",
    "    \"\"\"\n",
    "    warnings.simplefilter(\"ignore\", category=DuplicateKeyWarning)\n",
    "    warnings.simplefilter(\"error\", category=RuntimeWarning)\n",
    "    converter = VikingDIMConverter(row['path'], edr_lidmap)\n",
    "    output_directory = Path(output_root, \"data\", \"dtm\")\n",
    "    output_directory = Path(output_directory, resmap[row['res']], row['lat_bin'])\n",
    "    output_directory.mkdir(parents=True, exist_ok=True)\n",
    "    converter.write_file('image', output_directory)\n",
    "    converter.convert_label()\n",
    "    converter.write_label(output_directory)\n",
    "    if write_browse is True:\n",
    "        browse = VikingDIMBrowseWriter(converter)\n",
    "        browse_output_directory = Path(str(output_directory).replace(\"/data/\", \"/browse/\"))\n",
    "        browse_output_directory.mkdir(parents=True, exist_ok=True)\n",
    "        browse.write_file(\"image\", browse_output_directory)\n",
    "        browse.convert_label()\n",
    "        browse.write_label(browse_output_directory)\n",
    "    return 0"
   ]
  },
  {
   "cell_type": "code",
   "execution_count": null,
   "id": "98b93afc",
   "metadata": {},
   "outputs": [],
   "source": [
    "# execute convert_dtm in parallel across the input products\n",
    "pool = Pool(5)\n",
    "results = {}\n",
    "for ix, row in dtm.iterrows():\n",
    "    results[ix] = pool.apply_async(convert_dtm, (row, True))\n",
    "pool.close()\n",
    "ready = {}\n",
    "while len(ready) < len(results):\n",
    "    print_inline(f\"{len(ready)}/{len(results)}\")\n",
    "    ready = [k for k, v in results.items() if v.ready()]\n",
    "    time.sleep(1)\n",
    "print_inline(f\"{len(ready)}/{len(results)}\")"
   ]
  },
  {
   "cell_type": "code",
   "execution_count": null,
   "id": "071c2edb",
   "metadata": {},
   "outputs": [],
   "source": [
    "# retrieve error/success messages from the completed processes\n",
    "final = {}\n",
    "for k, v in results.items():\n",
    "    try:\n",
    "        final[k] = v.get()\n",
    "    except KeyboardInterrupt:\n",
    "        raise\n",
    "    except Exception as ex:\n",
    "        final[k] = ex\n",
    "pool.terminate()\n",
    "broken = {\n",
    "    k: v for k, v in final.items() if isinstance(v, Exception)\n",
    "}\n",
    "# show error messages (if any) along with their frequencies of occurrence\n",
    "frequencies(map(str, broken.values()))"
   ]
  }
 ],
 "metadata": {
  "kernelspec": {
   "display_name": "Python 3 (ipykernel)",
   "language": "python",
   "name": "python3"
  },
  "language_info": {
   "codemirror_mode": {
    "name": "ipython",
    "version": 3
   },
   "file_extension": ".py",
   "mimetype": "text/x-python",
   "name": "python",
   "nbconvert_exporter": "python",
   "pygments_lexer": "ipython3",
   "version": "3.9.16"
  }
 },
 "nbformat": 4,
 "nbformat_minor": 5
}
