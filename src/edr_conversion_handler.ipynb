{
 "cells": [
  {
   "cell_type": "markdown",
   "id": "5e7a8c35",
   "metadata": {},
   "source": [
    "# EDR conversion handler\n",
    "\n",
    "Top-level handler Notebook for converting EDRs to PDS4.\n",
    "\n",
    "Note: paths should be changed to reflect the actual locations of the input PDS3 products on your system.\n"
   ]
  },
  {
   "cell_type": "code",
   "execution_count": null,
   "id": "1a72f773",
   "metadata": {},
   "outputs": [],
   "source": [
    "from multiprocessing import Pool\n",
    "from pathlib import Path\n",
    "import re\n",
    "import time\n",
    "import warnings\n",
    "\n",
    "from cytoolz import frequencies\n",
    "import pandas as pd\n",
    "from pdr.pdr import DuplicateKeyWarning\n",
    "\n",
    "from utilz import index_breadth_first, print_inline\n",
    "from vo_edr_conversion import VikingEDRConverter, VikingEDRBrowseWriter\n",
    "\n",
    "output_root = Path(\"/datascratch/viking/scratch_write/\")"
   ]
  },
  {
   "cell_type": "code",
   "execution_count": null,
   "id": "73d6a108",
   "metadata": {},
   "outputs": [],
   "source": [
    "# build an index of the source EDRs\n",
    "edrs = pd.DataFrame(index_breadth_first('/datascratch/viking/edr/'))\n",
    "img_files = edrs.loc[edrs['path'].str.endswith('IMG')].copy()"
   ]
  },
  {
   "cell_type": "code",
   "execution_count": null,
   "id": "746e647a",
   "metadata": {},
   "outputs": [],
   "source": [
    "# some EDRs, as described in source errata, have multiple versions.\n",
    "# this lists their identifiers and describes which volume they first appeared on.\n",
    "# check_errata_status, below, will add a version identifier to their filenames/LIDs.\n",
    "errata_edrs = (\n",
    "    {'id': \"216S17\", 'first': 3},\n",
    "    {'id': \"217S21\", 'first': 3},\n",
    "    {'id': \"353S01\", 'first': 5},\n",
    "    {'id': \"039A29\", 'first': 11},\n",
    "    {'id': \"057A52\", 'first': 11},\n",
    "    {'id': \"448S21\", 'first': 8}\n",
    ")\n",
    "\n",
    "def check_errata_status(converter, collection=\"data\"):\n",
    "    if converter.data.metaget('IMAGE_ID') not in [rec['id'] for rec in errata_edrs]:\n",
    "        return (\n",
    "            converter,\n",
    "            Path(\n",
    "                output_root, \n",
    "                collection, \n",
    "                \"edr\", \n",
    "                str(converter.associations['orbit_number']).zfill(4)\n",
    "            )\n",
    "        )\n",
    "    first = [\n",
    "        rec['first'] \n",
    "        for rec in errata_edrs \n",
    "        if rec['id'] == converter.data.metaget('IMAGE_ID')\n",
    "    ][0]\n",
    "    # note: relies on having the volume # in the path!\n",
    "    is_first = int(re.search(r\"vo_\\d\\d(\\d\\d)\", converter.data.filename).group(1)) == first\n",
    "    if is_first:\n",
    "        converter.output_stem += \"_v1\"\n",
    "        converter.associations['pds4_lid'] += '_v1'\n",
    "    else:\n",
    "        converter.output_stem += \"_v2\"\n",
    "        converter.associations['pds4_lid'] += '_v2'\n",
    "    return converter, Path(output_root, collection, \"edr\", \"errata\")"
   ]
  },
  {
   "cell_type": "code",
   "execution_count": null,
   "id": "4cfcce4c",
   "metadata": {
    "scrolled": false
   },
   "outputs": [],
   "source": [
    "def convert_edr(edr_file, write_browse=True):\n",
    "    \"\"\"\n",
    "    handler function for converting a single product. constructs a VikingEDRConverter\n",
    "    and uses it to write a PDS4 data product; then uses that converter to construct\n",
    "    a VikingEDRBrowseWriter to write an associated browse product.\n",
    "    \"\"\"\n",
    "    warnings.simplefilter(\"ignore\", category=DuplicateKeyWarning)\n",
    "    converter = VikingEDRConverter(edr_file, search_paths=\"format_files\")\n",
    "    converter, output_directory = check_errata_status(converter)\n",
    "    output_directory.mkdir(parents=True, exist_ok=True)\n",
    "    for obj in converter.object_names:\n",
    "        converter.write_file(obj, output_directory)\n",
    "    converter.convert_label()\n",
    "    converter.write_label(output_directory)\n",
    "    if write_browse is True:\n",
    "        browse = VikingEDRBrowseWriter(converter)\n",
    "        browse, browse_output_directory = check_errata_status(browse, \"browse\")\n",
    "        browse_output_directory.mkdir(parents=True, exist_ok=True)\n",
    "        browse.write_file(\"image\", browse_output_directory)\n",
    "        browse.convert_label()\n",
    "        browse.write_label(browse_output_directory)\n",
    "    return 0"
   ]
  },
  {
   "cell_type": "code",
   "execution_count": null,
   "id": "8ded8398",
   "metadata": {},
   "outputs": [],
   "source": [
    "# execute convert_edr in parallel across the input products.\n",
    "pool = Pool(5)\n",
    "results = {}\n",
    "for ix, file in enumerate(img_files['path']):\n",
    "    results[file] = pool.apply_async(convert_edr, (file, False))\n",
    "pool.close()\n",
    "ready = {}\n",
    "while len(ready) < len(results):\n",
    "    print_inline(f\"{len(ready)}/{len(results)}\")\n",
    "    ready = [k for k, v in results.items() if v.ready()]\n",
    "    time.sleep(1)"
   ]
  },
  {
   "cell_type": "code",
   "execution_count": null,
   "id": "aa93e4ea",
   "metadata": {},
   "outputs": [],
   "source": [
    "# retrieve error/success messages from the completed processes\n",
    "final = {}\n",
    "for k, v in results.items():\n",
    "    try:\n",
    "        final[k] = v.get()\n",
    "    except KeyboardInterrupt:\n",
    "        raise\n",
    "    except Exception as ex:\n",
    "        final[k] = ex\n",
    "pool.terminate()\n",
    "broken = {\n",
    "    k: v for k, v in final.items() if isinstance(v, Exception)\n",
    "}\n",
    "# show error messages (if any) along with their frequencies of occurrence\n",
    "frequencies(map(str, broken.values()))"
   ]
  }
 ],
 "metadata": {
  "kernelspec": {
   "display_name": "Python 3 (ipykernel)",
   "language": "python",
   "name": "python3"
  },
  "language_info": {
   "codemirror_mode": {
    "name": "ipython",
    "version": 3
   },
   "file_extension": ".py",
   "mimetype": "text/x-python",
   "name": "python",
   "nbconvert_exporter": "python",
   "pygments_lexer": "ipython3",
   "version": "3.9.16"
  }
 },
 "nbformat": 4,
 "nbformat_minor": 5
}
